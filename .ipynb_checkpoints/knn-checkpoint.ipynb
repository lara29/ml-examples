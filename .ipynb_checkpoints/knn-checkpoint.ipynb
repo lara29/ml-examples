{
 "cells": [
  {
   "cell_type": "markdown",
   "metadata": {},
   "source": [
    "# K Nearest Neighbour"
   ]
  },
  {
   "cell_type": "markdown",
   "metadata": {},
   "source": [
    "The K nearest neighbour algorithm is a supervised learning algorith which performs classification tasks"
   ]
  },
  {
   "cell_type": "markdown",
   "metadata": {},
   "source": [
    "The intuition behind the KNN algorithm is one of the simplest of all the supervised machine learning algorithms. It simply calculates the distance of a new data point to all other training data points. The distance can be of any type e.g Euclidean or Manhattan etc. It then selects the K-nearest data points, where K can be any integer. Finally it assigns the data point to the class to which the majority of the K data points belong."
   ]
  },
  {
   "cell_type": "markdown",
   "metadata": {},
   "source": [
    "Let's import the necessary libraries:"
   ]
  },
  {
   "cell_type": "code",
   "execution_count": 1,
   "metadata": {},
   "outputs": [],
   "source": [
    "import numpy as np\n",
    "import pandas as pd\n",
    "import matplotlib.pyplot as plt\n",
    "from sklearn.model_selection import train_test_split\n",
    "from sklearn.neighbors import KNeighborsClassifier\n",
    "from sklearn.metrics import roc_curve, auc\n",
    "from matplotlib.legend_handler import HandlerLine2D\n",
    "from sklearn.model_selection import GridSearchCV\n",
    "from sklearn.metrics import classification_report"
   ]
  },
  {
   "cell_type": "markdown",
   "metadata": {},
   "source": [
    "For understanding the KNN classifier, we will use the Titanic dataset which is used to predict if a passenger has survived the tragedy based on certain information.\n",
    "Load the dataset using the pandas library. The data is stored in .csv format under the folder /titanic."
   ]
  },
  {
   "cell_type": "code",
   "execution_count": 2,
   "metadata": {},
   "outputs": [],
   "source": [
    "train = pd.read_csv(\"titanic/train.csv\")"
   ]
  },
  {
   "cell_type": "markdown",
   "metadata": {},
   "source": [
    "Let's check the shape and also peek into the first five entries of the dataset."
   ]
  },
  {
   "cell_type": "code",
   "execution_count": 3,
   "metadata": {},
   "outputs": [
    {
     "data": {
      "text/plain": [
       "(891, 12)"
      ]
     },
     "execution_count": 3,
     "metadata": {},
     "output_type": "execute_result"
    }
   ],
   "source": [
    "train.shape"
   ]
  },
  {
   "cell_type": "code",
   "execution_count": 4,
   "metadata": {},
   "outputs": [
    {
     "name": "stdout",
     "output_type": "stream",
     "text": [
      "<class 'pandas.core.frame.DataFrame'>\n",
      "RangeIndex: 891 entries, 0 to 890\n",
      "Data columns (total 12 columns):\n",
      "PassengerId    891 non-null int64\n",
      "Survived       891 non-null int64\n",
      "Pclass         891 non-null int64\n",
      "Name           891 non-null object\n",
      "Sex            891 non-null object\n",
      "Age            714 non-null float64\n",
      "SibSp          891 non-null int64\n",
      "Parch          891 non-null int64\n",
      "Ticket         891 non-null object\n",
      "Fare           891 non-null float64\n",
      "Cabin          204 non-null object\n",
      "Embarked       889 non-null object\n",
      "dtypes: float64(2), int64(5), object(5)\n",
      "memory usage: 83.6+ KB\n"
     ]
    }
   ],
   "source": [
    "train.info()"
   ]
  },
  {
   "cell_type": "code",
   "execution_count": 5,
   "metadata": {},
   "outputs": [
    {
     "data": {
      "text/html": [
       "<div>\n",
       "<style scoped>\n",
       "    .dataframe tbody tr th:only-of-type {\n",
       "        vertical-align: middle;\n",
       "    }\n",
       "\n",
       "    .dataframe tbody tr th {\n",
       "        vertical-align: top;\n",
       "    }\n",
       "\n",
       "    .dataframe thead th {\n",
       "        text-align: right;\n",
       "    }\n",
       "</style>\n",
       "<table border=\"1\" class=\"dataframe\">\n",
       "  <thead>\n",
       "    <tr style=\"text-align: right;\">\n",
       "      <th></th>\n",
       "      <th>PassengerId</th>\n",
       "      <th>Survived</th>\n",
       "      <th>Pclass</th>\n",
       "      <th>Name</th>\n",
       "      <th>Sex</th>\n",
       "      <th>Age</th>\n",
       "      <th>SibSp</th>\n",
       "      <th>Parch</th>\n",
       "      <th>Ticket</th>\n",
       "      <th>Fare</th>\n",
       "      <th>Cabin</th>\n",
       "      <th>Embarked</th>\n",
       "    </tr>\n",
       "  </thead>\n",
       "  <tbody>\n",
       "    <tr>\n",
       "      <th>0</th>\n",
       "      <td>1</td>\n",
       "      <td>0</td>\n",
       "      <td>3</td>\n",
       "      <td>Braund, Mr. Owen Harris</td>\n",
       "      <td>male</td>\n",
       "      <td>22.0</td>\n",
       "      <td>1</td>\n",
       "      <td>0</td>\n",
       "      <td>A/5 21171</td>\n",
       "      <td>7.2500</td>\n",
       "      <td>NaN</td>\n",
       "      <td>S</td>\n",
       "    </tr>\n",
       "    <tr>\n",
       "      <th>1</th>\n",
       "      <td>2</td>\n",
       "      <td>1</td>\n",
       "      <td>1</td>\n",
       "      <td>Cumings, Mrs. John Bradley (Florence Briggs Th...</td>\n",
       "      <td>female</td>\n",
       "      <td>38.0</td>\n",
       "      <td>1</td>\n",
       "      <td>0</td>\n",
       "      <td>PC 17599</td>\n",
       "      <td>71.2833</td>\n",
       "      <td>C85</td>\n",
       "      <td>C</td>\n",
       "    </tr>\n",
       "    <tr>\n",
       "      <th>2</th>\n",
       "      <td>3</td>\n",
       "      <td>1</td>\n",
       "      <td>3</td>\n",
       "      <td>Heikkinen, Miss. Laina</td>\n",
       "      <td>female</td>\n",
       "      <td>26.0</td>\n",
       "      <td>0</td>\n",
       "      <td>0</td>\n",
       "      <td>STON/O2. 3101282</td>\n",
       "      <td>7.9250</td>\n",
       "      <td>NaN</td>\n",
       "      <td>S</td>\n",
       "    </tr>\n",
       "    <tr>\n",
       "      <th>3</th>\n",
       "      <td>4</td>\n",
       "      <td>1</td>\n",
       "      <td>1</td>\n",
       "      <td>Futrelle, Mrs. Jacques Heath (Lily May Peel)</td>\n",
       "      <td>female</td>\n",
       "      <td>35.0</td>\n",
       "      <td>1</td>\n",
       "      <td>0</td>\n",
       "      <td>113803</td>\n",
       "      <td>53.1000</td>\n",
       "      <td>C123</td>\n",
       "      <td>S</td>\n",
       "    </tr>\n",
       "    <tr>\n",
       "      <th>4</th>\n",
       "      <td>5</td>\n",
       "      <td>0</td>\n",
       "      <td>3</td>\n",
       "      <td>Allen, Mr. William Henry</td>\n",
       "      <td>male</td>\n",
       "      <td>35.0</td>\n",
       "      <td>0</td>\n",
       "      <td>0</td>\n",
       "      <td>373450</td>\n",
       "      <td>8.0500</td>\n",
       "      <td>NaN</td>\n",
       "      <td>S</td>\n",
       "    </tr>\n",
       "  </tbody>\n",
       "</table>\n",
       "</div>"
      ],
      "text/plain": [
       "   PassengerId  Survived  Pclass  \\\n",
       "0            1         0       3   \n",
       "1            2         1       1   \n",
       "2            3         1       3   \n",
       "3            4         1       1   \n",
       "4            5         0       3   \n",
       "\n",
       "                                                Name     Sex   Age  SibSp  \\\n",
       "0                            Braund, Mr. Owen Harris    male  22.0      1   \n",
       "1  Cumings, Mrs. John Bradley (Florence Briggs Th...  female  38.0      1   \n",
       "2                             Heikkinen, Miss. Laina  female  26.0      0   \n",
       "3       Futrelle, Mrs. Jacques Heath (Lily May Peel)  female  35.0      1   \n",
       "4                           Allen, Mr. William Henry    male  35.0      0   \n",
       "\n",
       "   Parch            Ticket     Fare Cabin Embarked  \n",
       "0      0         A/5 21171   7.2500   NaN        S  \n",
       "1      0          PC 17599  71.2833   C85        C  \n",
       "2      0  STON/O2. 3101282   7.9250   NaN        S  \n",
       "3      0            113803  53.1000  C123        S  \n",
       "4      0            373450   8.0500   NaN        S  "
      ]
     },
     "execution_count": 5,
     "metadata": {},
     "output_type": "execute_result"
    }
   ],
   "source": [
    "train.head(5)"
   ]
  },
  {
   "cell_type": "markdown",
   "metadata": {},
   "source": [
    "Also check the statistics of the various fields in the dataset using the 'describe' function below:"
   ]
  },
  {
   "cell_type": "code",
   "execution_count": 6,
   "metadata": {},
   "outputs": [
    {
     "data": {
      "text/html": [
       "<div>\n",
       "<style scoped>\n",
       "    .dataframe tbody tr th:only-of-type {\n",
       "        vertical-align: middle;\n",
       "    }\n",
       "\n",
       "    .dataframe tbody tr th {\n",
       "        vertical-align: top;\n",
       "    }\n",
       "\n",
       "    .dataframe thead th {\n",
       "        text-align: right;\n",
       "    }\n",
       "</style>\n",
       "<table border=\"1\" class=\"dataframe\">\n",
       "  <thead>\n",
       "    <tr style=\"text-align: right;\">\n",
       "      <th></th>\n",
       "      <th>PassengerId</th>\n",
       "      <th>Survived</th>\n",
       "      <th>Pclass</th>\n",
       "      <th>Name</th>\n",
       "      <th>Sex</th>\n",
       "      <th>Age</th>\n",
       "      <th>SibSp</th>\n",
       "      <th>Parch</th>\n",
       "      <th>Ticket</th>\n",
       "      <th>Fare</th>\n",
       "      <th>Cabin</th>\n",
       "      <th>Embarked</th>\n",
       "    </tr>\n",
       "  </thead>\n",
       "  <tbody>\n",
       "    <tr>\n",
       "      <th>count</th>\n",
       "      <td>891.000000</td>\n",
       "      <td>891.000000</td>\n",
       "      <td>891.000000</td>\n",
       "      <td>891</td>\n",
       "      <td>891</td>\n",
       "      <td>714.000000</td>\n",
       "      <td>891.000000</td>\n",
       "      <td>891.000000</td>\n",
       "      <td>891</td>\n",
       "      <td>891.000000</td>\n",
       "      <td>204</td>\n",
       "      <td>889</td>\n",
       "    </tr>\n",
       "    <tr>\n",
       "      <th>unique</th>\n",
       "      <td>NaN</td>\n",
       "      <td>NaN</td>\n",
       "      <td>NaN</td>\n",
       "      <td>891</td>\n",
       "      <td>2</td>\n",
       "      <td>NaN</td>\n",
       "      <td>NaN</td>\n",
       "      <td>NaN</td>\n",
       "      <td>681</td>\n",
       "      <td>NaN</td>\n",
       "      <td>147</td>\n",
       "      <td>3</td>\n",
       "    </tr>\n",
       "    <tr>\n",
       "      <th>top</th>\n",
       "      <td>NaN</td>\n",
       "      <td>NaN</td>\n",
       "      <td>NaN</td>\n",
       "      <td>Kilgannon, Mr. Thomas J</td>\n",
       "      <td>male</td>\n",
       "      <td>NaN</td>\n",
       "      <td>NaN</td>\n",
       "      <td>NaN</td>\n",
       "      <td>347082</td>\n",
       "      <td>NaN</td>\n",
       "      <td>G6</td>\n",
       "      <td>S</td>\n",
       "    </tr>\n",
       "    <tr>\n",
       "      <th>freq</th>\n",
       "      <td>NaN</td>\n",
       "      <td>NaN</td>\n",
       "      <td>NaN</td>\n",
       "      <td>1</td>\n",
       "      <td>577</td>\n",
       "      <td>NaN</td>\n",
       "      <td>NaN</td>\n",
       "      <td>NaN</td>\n",
       "      <td>7</td>\n",
       "      <td>NaN</td>\n",
       "      <td>4</td>\n",
       "      <td>644</td>\n",
       "    </tr>\n",
       "    <tr>\n",
       "      <th>mean</th>\n",
       "      <td>446.000000</td>\n",
       "      <td>0.383838</td>\n",
       "      <td>2.308642</td>\n",
       "      <td>NaN</td>\n",
       "      <td>NaN</td>\n",
       "      <td>29.699118</td>\n",
       "      <td>0.523008</td>\n",
       "      <td>0.381594</td>\n",
       "      <td>NaN</td>\n",
       "      <td>32.204208</td>\n",
       "      <td>NaN</td>\n",
       "      <td>NaN</td>\n",
       "    </tr>\n",
       "    <tr>\n",
       "      <th>std</th>\n",
       "      <td>257.353842</td>\n",
       "      <td>0.486592</td>\n",
       "      <td>0.836071</td>\n",
       "      <td>NaN</td>\n",
       "      <td>NaN</td>\n",
       "      <td>14.526497</td>\n",
       "      <td>1.102743</td>\n",
       "      <td>0.806057</td>\n",
       "      <td>NaN</td>\n",
       "      <td>49.693429</td>\n",
       "      <td>NaN</td>\n",
       "      <td>NaN</td>\n",
       "    </tr>\n",
       "    <tr>\n",
       "      <th>min</th>\n",
       "      <td>1.000000</td>\n",
       "      <td>0.000000</td>\n",
       "      <td>1.000000</td>\n",
       "      <td>NaN</td>\n",
       "      <td>NaN</td>\n",
       "      <td>0.420000</td>\n",
       "      <td>0.000000</td>\n",
       "      <td>0.000000</td>\n",
       "      <td>NaN</td>\n",
       "      <td>0.000000</td>\n",
       "      <td>NaN</td>\n",
       "      <td>NaN</td>\n",
       "    </tr>\n",
       "    <tr>\n",
       "      <th>25%</th>\n",
       "      <td>223.500000</td>\n",
       "      <td>0.000000</td>\n",
       "      <td>2.000000</td>\n",
       "      <td>NaN</td>\n",
       "      <td>NaN</td>\n",
       "      <td>20.125000</td>\n",
       "      <td>0.000000</td>\n",
       "      <td>0.000000</td>\n",
       "      <td>NaN</td>\n",
       "      <td>7.910400</td>\n",
       "      <td>NaN</td>\n",
       "      <td>NaN</td>\n",
       "    </tr>\n",
       "    <tr>\n",
       "      <th>50%</th>\n",
       "      <td>446.000000</td>\n",
       "      <td>0.000000</td>\n",
       "      <td>3.000000</td>\n",
       "      <td>NaN</td>\n",
       "      <td>NaN</td>\n",
       "      <td>28.000000</td>\n",
       "      <td>0.000000</td>\n",
       "      <td>0.000000</td>\n",
       "      <td>NaN</td>\n",
       "      <td>14.454200</td>\n",
       "      <td>NaN</td>\n",
       "      <td>NaN</td>\n",
       "    </tr>\n",
       "    <tr>\n",
       "      <th>75%</th>\n",
       "      <td>668.500000</td>\n",
       "      <td>1.000000</td>\n",
       "      <td>3.000000</td>\n",
       "      <td>NaN</td>\n",
       "      <td>NaN</td>\n",
       "      <td>38.000000</td>\n",
       "      <td>1.000000</td>\n",
       "      <td>0.000000</td>\n",
       "      <td>NaN</td>\n",
       "      <td>31.000000</td>\n",
       "      <td>NaN</td>\n",
       "      <td>NaN</td>\n",
       "    </tr>\n",
       "    <tr>\n",
       "      <th>max</th>\n",
       "      <td>891.000000</td>\n",
       "      <td>1.000000</td>\n",
       "      <td>3.000000</td>\n",
       "      <td>NaN</td>\n",
       "      <td>NaN</td>\n",
       "      <td>80.000000</td>\n",
       "      <td>8.000000</td>\n",
       "      <td>6.000000</td>\n",
       "      <td>NaN</td>\n",
       "      <td>512.329200</td>\n",
       "      <td>NaN</td>\n",
       "      <td>NaN</td>\n",
       "    </tr>\n",
       "  </tbody>\n",
       "</table>\n",
       "</div>"
      ],
      "text/plain": [
       "        PassengerId    Survived      Pclass                     Name   Sex  \\\n",
       "count    891.000000  891.000000  891.000000                      891   891   \n",
       "unique          NaN         NaN         NaN                      891     2   \n",
       "top             NaN         NaN         NaN  Kilgannon, Mr. Thomas J  male   \n",
       "freq            NaN         NaN         NaN                        1   577   \n",
       "mean     446.000000    0.383838    2.308642                      NaN   NaN   \n",
       "std      257.353842    0.486592    0.836071                      NaN   NaN   \n",
       "min        1.000000    0.000000    1.000000                      NaN   NaN   \n",
       "25%      223.500000    0.000000    2.000000                      NaN   NaN   \n",
       "50%      446.000000    0.000000    3.000000                      NaN   NaN   \n",
       "75%      668.500000    1.000000    3.000000                      NaN   NaN   \n",
       "max      891.000000    1.000000    3.000000                      NaN   NaN   \n",
       "\n",
       "               Age       SibSp       Parch  Ticket        Fare Cabin Embarked  \n",
       "count   714.000000  891.000000  891.000000     891  891.000000   204      889  \n",
       "unique         NaN         NaN         NaN     681         NaN   147        3  \n",
       "top            NaN         NaN         NaN  347082         NaN    G6        S  \n",
       "freq           NaN         NaN         NaN       7         NaN     4      644  \n",
       "mean     29.699118    0.523008    0.381594     NaN   32.204208   NaN      NaN  \n",
       "std      14.526497    1.102743    0.806057     NaN   49.693429   NaN      NaN  \n",
       "min       0.420000    0.000000    0.000000     NaN    0.000000   NaN      NaN  \n",
       "25%      20.125000    0.000000    0.000000     NaN    7.910400   NaN      NaN  \n",
       "50%      28.000000    0.000000    0.000000     NaN   14.454200   NaN      NaN  \n",
       "75%      38.000000    1.000000    0.000000     NaN   31.000000   NaN      NaN  \n",
       "max      80.000000    8.000000    6.000000     NaN  512.329200   NaN      NaN  "
      ]
     },
     "execution_count": 6,
     "metadata": {},
     "output_type": "execute_result"
    }
   ],
   "source": [
    "train.describe(include=\"all\")"
   ]
  },
  {
   "cell_type": "markdown",
   "metadata": {},
   "source": [
    "We use the  include=\"all\"  to include non-numeric columns in our analysis. This function results in lots of very useful data about the distribution of our data (minimum, maximum, average, etc.)"
   ]
  },
  {
   "cell_type": "markdown",
   "metadata": {},
   "source": [
    "From the data, we can notice that there are plenty of data points that contain the NaN (Not a Number) values that cannot be processed by our algorithm. To fix this, we can fill these entries with the mean/mode of other data points for that field as shown below:"
   ]
  },
  {
   "cell_type": "code",
   "execution_count": 8,
   "metadata": {},
   "outputs": [
    {
     "data": {
      "text/html": [
       "<div>\n",
       "<style scoped>\n",
       "    .dataframe tbody tr th:only-of-type {\n",
       "        vertical-align: middle;\n",
       "    }\n",
       "\n",
       "    .dataframe tbody tr th {\n",
       "        vertical-align: top;\n",
       "    }\n",
       "\n",
       "    .dataframe thead th {\n",
       "        text-align: right;\n",
       "    }\n",
       "</style>\n",
       "<table border=\"1\" class=\"dataframe\">\n",
       "  <thead>\n",
       "    <tr style=\"text-align: right;\">\n",
       "      <th></th>\n",
       "      <th>Train</th>\n",
       "    </tr>\n",
       "  </thead>\n",
       "  <tbody>\n",
       "    <tr>\n",
       "      <th>Age</th>\n",
       "      <td>177</td>\n",
       "    </tr>\n",
       "    <tr>\n",
       "      <th>Cabin</th>\n",
       "      <td>687</td>\n",
       "    </tr>\n",
       "    <tr>\n",
       "      <th>Embarked</th>\n",
       "      <td>2</td>\n",
       "    </tr>\n",
       "  </tbody>\n",
       "</table>\n",
       "</div>"
      ],
      "text/plain": [
       "          Train\n",
       "Age         177\n",
       "Cabin       687\n",
       "Embarked      2"
      ]
     },
     "execution_count": 8,
     "metadata": {},
     "output_type": "execute_result"
    }
   ],
   "source": [
    "#Checking for missing data\n",
    "NAs = pd.concat([train.isnull().sum()], axis=1, keys=['Train'])\n",
    "NAs[NAs.sum(axis=1) > 0]"
   ]
  },
  {
   "cell_type": "code",
   "execution_count": 9,
   "metadata": {},
   "outputs": [],
   "source": [
    "train['Age'] = train['Age'].fillna(train['Age'].mean())\n",
    "train['Embarked'] = train['Embarked'].fillna(train['Embarked'].mode()[0])"
   ]
  },
  {
   "cell_type": "markdown",
   "metadata": {},
   "source": [
    "Drop columns which may not be useful for our learning, like ‘Cabin’, ‘Name’ and ‘Ticket’."
   ]
  },
  {
   "cell_type": "code",
   "execution_count": 10,
   "metadata": {},
   "outputs": [],
   "source": [
    "train.drop(\"Cabin\",axis=1,inplace=True)\n",
    "train.drop(\"Name\",axis=1,inplace=True)\n",
    "train.drop(\"Ticket\",axis=1,inplace=True)"
   ]
  },
  {
   "cell_type": "markdown",
   "metadata": {},
   "source": [
    "‘Pclass’ is a categorical feature so we convert its values to strings"
   ]
  },
  {
   "cell_type": "code",
   "execution_count": 11,
   "metadata": {},
   "outputs": [],
   "source": [
    "train['Pclass'] = train['Pclass'].apply(str)"
   ]
  },
  {
   "cell_type": "markdown",
   "metadata": {},
   "source": [
    "Let’s perform a basic one hot encoding of categorical features"
   ]
  },
  {
   "cell_type": "code",
   "execution_count": 12,
   "metadata": {},
   "outputs": [],
   "source": [
    "for col in train.dtypes[train.dtypes == 'object'].index:\n",
    "    for_dummy = train.pop(col)\n",
    "    train = pd.concat([train, pd.get_dummies(for_dummy, prefix=col)], axis=1)"
   ]
  },
  {
   "cell_type": "markdown",
   "metadata": {},
   "source": [
    "As a final step, let's remove the labels from the data, as our objective is to predict them."
   ]
  },
  {
   "cell_type": "code",
   "execution_count": 13,
   "metadata": {},
   "outputs": [],
   "source": [
    "labels = train.pop('Survived')"
   ]
  },
  {
   "cell_type": "markdown",
   "metadata": {},
   "source": [
    "Our data is now ready for training. Split the data into training and test sets, with 75% of data being used for training and remaining 25% used for testing."
   ]
  },
  {
   "cell_type": "code",
   "execution_count": 14,
   "metadata": {},
   "outputs": [],
   "source": [
    "X_train, X_test, Y_train, Y_test = train_test_split(train, labels, test_size=0.25)"
   ]
  },
  {
   "cell_type": "markdown",
   "metadata": {},
   "source": [
    "First, we will run our K Nearest Neighbors alogorithm using the default hyperparameters to check the performance.\n",
    "\n",
    "Train the model:"
   ]
  },
  {
   "cell_type": "code",
   "execution_count": 15,
   "metadata": {},
   "outputs": [
    {
     "data": {
      "text/plain": [
       "KNeighborsClassifier(algorithm='auto', leaf_size=30, metric='minkowski',\n",
       "           metric_params=None, n_jobs=None, n_neighbors=5, p=2,\n",
       "           weights='uniform')"
      ]
     },
     "execution_count": 15,
     "metadata": {},
     "output_type": "execute_result"
    }
   ],
   "source": [
    "model = KNeighborsClassifier()\n",
    "model.fit(X_train, Y_train)"
   ]
  },
  {
   "cell_type": "markdown",
   "metadata": {},
   "source": [
    "Now, using the trained classifier, let us predict the test label using the test data, and compare it with the actual labels."
   ]
  },
  {
   "cell_type": "code",
   "execution_count": 16,
   "metadata": {},
   "outputs": [],
   "source": [
    "y_pred = model.predict(X_test)"
   ]
  },
  {
   "cell_type": "markdown",
   "metadata": {},
   "source": [
    "We can check the accuracy of our prediction using the method 'classification_report'."
   ]
  },
  {
   "cell_type": "code",
   "execution_count": 17,
   "metadata": {},
   "outputs": [
    {
     "data": {
      "text/plain": [
       "'              precision    recall  f1-score   support\\n\\n           0       0.67      0.79      0.72       137\\n           1       0.52      0.37      0.44        86\\n\\n   micro avg       0.63      0.63      0.63       223\\n   macro avg       0.60      0.58      0.58       223\\nweighted avg       0.61      0.63      0.61       223\\n'"
      ]
     },
     "execution_count": 17,
     "metadata": {},
     "output_type": "execute_result"
    }
   ],
   "source": [
    "classification_report(Y_test, y_pred)"
   ]
  },
  {
   "cell_type": "markdown",
   "metadata": {},
   "source": [
    "Let's see if we can improve this score by tuning our hyper-parameters."
   ]
  },
  {
   "cell_type": "code",
   "execution_count": 18,
   "metadata": {},
   "outputs": [],
   "source": [
    "# Define hyperparameters and their ranges\n",
    "n_neighbors = list(range(1,30))\n",
    "weights = ['uniform', 'distance']\n",
    "metric = ['euclidean', 'manhattan', 'chebyshev', 'minkowski']"
   ]
  },
  {
   "cell_type": "markdown",
   "metadata": {},
   "source": [
    "Here, we are varying three hyperparameters associated with the K Nearest Neighbours algorithm to check which combination would fit best with our dataset."
   ]
  },
  {
   "cell_type": "markdown",
   "metadata": {},
   "source": [
    "In this example, we will use GridSearchCV to perform cross-validation while tuning our parameters. Once this function completes execution, it will return a classifier object produced the best accuracy score while training."
   ]
  },
  {
   "cell_type": "code",
   "execution_count": 20,
   "metadata": {},
   "outputs": [
    {
     "name": "stdout",
     "output_type": "stream",
     "text": [
      "Fitting 3 folds for each of 232 candidates, totalling 696 fits\n"
     ]
    },
    {
     "name": "stderr",
     "output_type": "stream",
     "text": [
      "[Parallel(n_jobs=-1)]: Using backend LokyBackend with 4 concurrent workers.\n",
      "[Parallel(n_jobs=-1)]: Done   1 tasks      | elapsed:    2.4s\n",
      "[Parallel(n_jobs=-1)]: Done   2 tasks      | elapsed:    2.4s\n",
      "[Parallel(n_jobs=-1)]: Done   3 tasks      | elapsed:    2.4s\n",
      "[Parallel(n_jobs=-1)]: Done   4 tasks      | elapsed:    2.5s\n",
      "[Parallel(n_jobs=-1)]: Done   5 tasks      | elapsed:    2.5s\n",
      "[Parallel(n_jobs=-1)]: Done   6 tasks      | elapsed:    2.5s\n",
      "[Parallel(n_jobs=-1)]: Done   7 tasks      | elapsed:    2.5s\n",
      "[Parallel(n_jobs=-1)]: Done   8 tasks      | elapsed:    2.5s\n",
      "[Parallel(n_jobs=-1)]: Done   9 tasks      | elapsed:    2.5s\n",
      "[Parallel(n_jobs=-1)]: Done  10 tasks      | elapsed:    2.5s\n",
      "[Parallel(n_jobs=-1)]: Done  11 tasks      | elapsed:    2.5s\n",
      "[Parallel(n_jobs=-1)]: Done  12 tasks      | elapsed:    2.5s\n",
      "[Parallel(n_jobs=-1)]: Done  13 tasks      | elapsed:    2.5s\n",
      "[Parallel(n_jobs=-1)]: Done  14 tasks      | elapsed:    2.5s\n",
      "[Parallel(n_jobs=-1)]: Done  15 tasks      | elapsed:    2.5s\n",
      "[Parallel(n_jobs=-1)]: Done  16 tasks      | elapsed:    2.5s\n",
      "[Parallel(n_jobs=-1)]: Done  17 tasks      | elapsed:    2.6s\n",
      "[Parallel(n_jobs=-1)]: Done  18 tasks      | elapsed:    2.6s\n",
      "[Parallel(n_jobs=-1)]: Done  19 tasks      | elapsed:    2.6s\n",
      "[Parallel(n_jobs=-1)]: Done  20 tasks      | elapsed:    2.6s\n",
      "[Parallel(n_jobs=-1)]: Done  21 tasks      | elapsed:    2.6s\n",
      "[Parallel(n_jobs=-1)]: Batch computation too fast (0.1856s.) Setting batch_size=2.\n",
      "[Parallel(n_jobs=-1)]: Done  22 tasks      | elapsed:    2.6s\n",
      "[Parallel(n_jobs=-1)]: Done  23 tasks      | elapsed:    2.6s\n",
      "[Parallel(n_jobs=-1)]: Done  24 tasks      | elapsed:    2.6s\n",
      "[Parallel(n_jobs=-1)]: Done  25 tasks      | elapsed:    2.6s\n",
      "[Parallel(n_jobs=-1)]: Done  26 tasks      | elapsed:    2.6s\n",
      "[Parallel(n_jobs=-1)]: Done  27 tasks      | elapsed:    2.6s\n",
      "[Parallel(n_jobs=-1)]: Done  28 tasks      | elapsed:    2.7s\n",
      "[Parallel(n_jobs=-1)]: Done  30 tasks      | elapsed:    2.7s\n",
      "[Parallel(n_jobs=-1)]: Batch computation too fast (0.0706s.) Setting batch_size=10.\n",
      "[Parallel(n_jobs=-1)]: Done  32 tasks      | elapsed:    2.7s\n",
      "[Parallel(n_jobs=-1)]: Done  34 tasks      | elapsed:    2.7s\n",
      "[Parallel(n_jobs=-1)]: Done  36 tasks      | elapsed:    2.7s\n",
      "[Parallel(n_jobs=-1)]: Done  38 tasks      | elapsed:    2.7s\n",
      "[Parallel(n_jobs=-1)]: Done  40 tasks      | elapsed:    2.7s\n",
      "[Parallel(n_jobs=-1)]: Done  42 tasks      | elapsed:    2.7s\n",
      "[Parallel(n_jobs=-1)]: Done  44 tasks      | elapsed:    2.8s\n",
      "[Parallel(n_jobs=-1)]: Done  54 tasks      | elapsed:    2.8s\n",
      "[Parallel(n_jobs=-1)]: Batch computation too fast (0.1690s.) Setting batch_size=22.\n",
      "[Parallel(n_jobs=-1)]: Done  64 tasks      | elapsed:    2.9s\n",
      "[Parallel(n_jobs=-1)]: Done  74 tasks      | elapsed:    2.9s\n",
      "[Parallel(n_jobs=-1)]: Done  84 tasks      | elapsed:    3.0s\n",
      "[Parallel(n_jobs=-1)]: Done  94 tasks      | elapsed:    3.0s\n",
      "[Parallel(n_jobs=-1)]: Done 104 tasks      | elapsed:    3.0s\n",
      "[Parallel(n_jobs=-1)]: Done 114 tasks      | elapsed:    3.1s\n",
      "[Parallel(n_jobs=-1)]: Done 124 tasks      | elapsed:    3.1s\n",
      "[Parallel(n_jobs=-1)]: Done 146 tasks      | elapsed:    3.3s\n",
      "[Parallel(n_jobs=-1)]: Done 168 tasks      | elapsed:    3.4s\n",
      "[Parallel(n_jobs=-1)]: Done 190 tasks      | elapsed:    3.4s\n",
      "[Parallel(n_jobs=-1)]: Done 212 tasks      | elapsed:    3.4s\n",
      "[Parallel(n_jobs=-1)]: Done 234 tasks      | elapsed:    3.5s\n",
      "[Parallel(n_jobs=-1)]: Done 256 tasks      | elapsed:    3.7s\n",
      "[Parallel(n_jobs=-1)]: Done 278 tasks      | elapsed:    3.7s\n",
      "[Parallel(n_jobs=-1)]: Done 300 tasks      | elapsed:    3.7s\n",
      "[Parallel(n_jobs=-1)]: Done 322 tasks      | elapsed:    4.0s\n",
      "[Parallel(n_jobs=-1)]: Done 344 tasks      | elapsed:    4.0s\n",
      "[Parallel(n_jobs=-1)]: Done 366 tasks      | elapsed:    4.1s\n",
      "[Parallel(n_jobs=-1)]: Done 388 tasks      | elapsed:    4.1s\n",
      "[Parallel(n_jobs=-1)]: Done 410 tasks      | elapsed:    4.2s\n",
      "[Parallel(n_jobs=-1)]: Done 432 tasks      | elapsed:    4.4s\n",
      "[Parallel(n_jobs=-1)]: Done 454 tasks      | elapsed:    4.5s\n",
      "[Parallel(n_jobs=-1)]: Done 476 tasks      | elapsed:    4.6s\n",
      "[Parallel(n_jobs=-1)]: Done 498 tasks      | elapsed:    4.7s\n",
      "[Parallel(n_jobs=-1)]: Done 520 tasks      | elapsed:    4.8s\n",
      "[Parallel(n_jobs=-1)]: Done 542 tasks      | elapsed:    4.9s\n",
      "[Parallel(n_jobs=-1)]: Done 696 out of 696 | elapsed:    5.4s finished\n"
     ]
    },
    {
     "data": {
      "text/plain": [
       "GridSearchCV(cv=3, error_score='raise-deprecating',\n",
       "       estimator=KNeighborsClassifier(algorithm='auto', leaf_size=30, metric='minkowski',\n",
       "           metric_params=None, n_jobs=None, n_neighbors=5, p=2,\n",
       "           weights='uniform'),\n",
       "       fit_params=None, iid='warn', n_jobs=-1,\n",
       "       param_grid={'n_neighbors': [1, 2, 3, 4, 5, 6, 7, 8, 9, 10, 11, 12, 13, 14, 15, 16, 17, 18, 19, 20, 21, 22, 23, 24, 25, 26, 27, 28, 29], 'metric': ['euclidean', 'manhattan', 'chebyshev', 'minkowski'], 'weights': ['uniform', 'distance']},\n",
       "       pre_dispatch='2*n_jobs', refit=True, return_train_score='warn',\n",
       "       scoring=None, verbose=20)"
      ]
     },
     "execution_count": 20,
     "metadata": {},
     "output_type": "execute_result"
    }
   ],
   "source": [
    "# Set the parameters by cross-validation\n",
    "tuned_parameters = {'n_neighbors': n_neighbors, 'metric': metric, 'weights': weights}\n",
    "clf = GridSearchCV(model, tuned_parameters, verbose=20, cv=3, n_jobs=-1)\n",
    "clf.fit(X_train, Y_train)"
   ]
  },
  {
   "cell_type": "markdown",
   "metadata": {},
   "source": [
    "Best parameters set found on development set:"
   ]
  },
  {
   "cell_type": "code",
   "execution_count": 21,
   "metadata": {},
   "outputs": [
    {
     "data": {
      "text/plain": [
       "{'metric': 'euclidean', 'n_neighbors': 17, 'weights': 'uniform'}"
      ]
     },
     "execution_count": 21,
     "metadata": {},
     "output_type": "execute_result"
    }
   ],
   "source": [
    "clf.best_params_"
   ]
  },
  {
   "cell_type": "markdown",
   "metadata": {},
   "source": [
    "Best score found on development set:"
   ]
  },
  {
   "cell_type": "code",
   "execution_count": 22,
   "metadata": {},
   "outputs": [
    {
     "data": {
      "text/plain": [
       "0.69461077844311381"
      ]
     },
     "execution_count": 22,
     "metadata": {},
     "output_type": "execute_result"
    }
   ],
   "source": [
    "clf.best_score_"
   ]
  },
  {
   "cell_type": "markdown",
   "metadata": {},
   "source": [
    "Grid scores on development set:"
   ]
  },
  {
   "cell_type": "code",
   "execution_count": 23,
   "metadata": {},
   "outputs": [
    {
     "name": "stdout",
     "output_type": "stream",
     "text": [
      "0.605 (+/-0.030) for {'metric': 'euclidean', 'n_neighbors': 1, 'weights': 'uniform'}\n",
      "0.605 (+/-0.030) for {'metric': 'euclidean', 'n_neighbors': 1, 'weights': 'distance'}\n",
      "0.651 (+/-0.018) for {'metric': 'euclidean', 'n_neighbors': 2, 'weights': 'uniform'}\n",
      "0.605 (+/-0.030) for {'metric': 'euclidean', 'n_neighbors': 2, 'weights': 'distance'}\n",
      "0.642 (+/-0.012) for {'metric': 'euclidean', 'n_neighbors': 3, 'weights': 'uniform'}\n",
      "0.630 (+/-0.008) for {'metric': 'euclidean', 'n_neighbors': 3, 'weights': 'distance'}\n",
      "0.663 (+/-0.003) for {'metric': 'euclidean', 'n_neighbors': 4, 'weights': 'uniform'}\n",
      "0.638 (+/-0.004) for {'metric': 'euclidean', 'n_neighbors': 4, 'weights': 'distance'}\n",
      "0.648 (+/-0.018) for {'metric': 'euclidean', 'n_neighbors': 5, 'weights': 'uniform'}\n",
      "0.641 (+/-0.036) for {'metric': 'euclidean', 'n_neighbors': 5, 'weights': 'distance'}\n",
      "0.665 (+/-0.004) for {'metric': 'euclidean', 'n_neighbors': 6, 'weights': 'uniform'}\n",
      "0.651 (+/-0.040) for {'metric': 'euclidean', 'n_neighbors': 6, 'weights': 'distance'}\n",
      "0.671 (+/-0.032) for {'metric': 'euclidean', 'n_neighbors': 7, 'weights': 'uniform'}\n",
      "0.663 (+/-0.022) for {'metric': 'euclidean', 'n_neighbors': 7, 'weights': 'distance'}\n",
      "0.671 (+/-0.013) for {'metric': 'euclidean', 'n_neighbors': 8, 'weights': 'uniform'}\n",
      "0.660 (+/-0.023) for {'metric': 'euclidean', 'n_neighbors': 8, 'weights': 'distance'}\n",
      "0.675 (+/-0.009) for {'metric': 'euclidean', 'n_neighbors': 9, 'weights': 'uniform'}\n",
      "0.668 (+/-0.005) for {'metric': 'euclidean', 'n_neighbors': 9, 'weights': 'distance'}\n",
      "0.684 (+/-0.006) for {'metric': 'euclidean', 'n_neighbors': 10, 'weights': 'uniform'}\n",
      "0.678 (+/-0.035) for {'metric': 'euclidean', 'n_neighbors': 10, 'weights': 'distance'}\n",
      "0.683 (+/-0.014) for {'metric': 'euclidean', 'n_neighbors': 11, 'weights': 'uniform'}\n",
      "0.662 (+/-0.018) for {'metric': 'euclidean', 'n_neighbors': 11, 'weights': 'distance'}\n",
      "0.677 (+/-0.005) for {'metric': 'euclidean', 'n_neighbors': 12, 'weights': 'uniform'}\n",
      "0.668 (+/-0.043) for {'metric': 'euclidean', 'n_neighbors': 12, 'weights': 'distance'}\n",
      "0.693 (+/-0.024) for {'metric': 'euclidean', 'n_neighbors': 13, 'weights': 'uniform'}\n",
      "0.671 (+/-0.032) for {'metric': 'euclidean', 'n_neighbors': 13, 'weights': 'distance'}\n",
      "0.678 (+/-0.018) for {'metric': 'euclidean', 'n_neighbors': 14, 'weights': 'uniform'}\n",
      "0.675 (+/-0.047) for {'metric': 'euclidean', 'n_neighbors': 14, 'weights': 'distance'}\n",
      "0.686 (+/-0.021) for {'metric': 'euclidean', 'n_neighbors': 15, 'weights': 'uniform'}\n",
      "0.672 (+/-0.029) for {'metric': 'euclidean', 'n_neighbors': 15, 'weights': 'distance'}\n",
      "0.684 (+/-0.011) for {'metric': 'euclidean', 'n_neighbors': 16, 'weights': 'uniform'}\n",
      "0.678 (+/-0.035) for {'metric': 'euclidean', 'n_neighbors': 16, 'weights': 'distance'}\n",
      "0.695 (+/-0.012) for {'metric': 'euclidean', 'n_neighbors': 17, 'weights': 'uniform'}\n",
      "0.672 (+/-0.019) for {'metric': 'euclidean', 'n_neighbors': 17, 'weights': 'distance'}\n",
      "0.675 (+/-0.016) for {'metric': 'euclidean', 'n_neighbors': 18, 'weights': 'uniform'}\n",
      "0.683 (+/-0.017) for {'metric': 'euclidean', 'n_neighbors': 18, 'weights': 'distance'}\n",
      "0.678 (+/-0.006) for {'metric': 'euclidean', 'n_neighbors': 19, 'weights': 'uniform'}\n",
      "0.674 (+/-0.016) for {'metric': 'euclidean', 'n_neighbors': 19, 'weights': 'distance'}\n",
      "0.672 (+/-0.005) for {'metric': 'euclidean', 'n_neighbors': 20, 'weights': 'uniform'}\n",
      "0.683 (+/-0.028) for {'metric': 'euclidean', 'n_neighbors': 20, 'weights': 'distance'}\n",
      "0.675 (+/-0.006) for {'metric': 'euclidean', 'n_neighbors': 21, 'weights': 'uniform'}\n",
      "0.677 (+/-0.010) for {'metric': 'euclidean', 'n_neighbors': 21, 'weights': 'distance'}\n",
      "0.671 (+/-0.009) for {'metric': 'euclidean', 'n_neighbors': 22, 'weights': 'uniform'}\n",
      "0.678 (+/-0.017) for {'metric': 'euclidean', 'n_neighbors': 22, 'weights': 'distance'}\n",
      "0.669 (+/-0.009) for {'metric': 'euclidean', 'n_neighbors': 23, 'weights': 'uniform'}\n",
      "0.677 (+/-0.003) for {'metric': 'euclidean', 'n_neighbors': 23, 'weights': 'distance'}\n",
      "0.669 (+/-0.011) for {'metric': 'euclidean', 'n_neighbors': 24, 'weights': 'uniform'}\n",
      "0.678 (+/-0.023) for {'metric': 'euclidean', 'n_neighbors': 24, 'weights': 'distance'}\n",
      "0.666 (+/-0.014) for {'metric': 'euclidean', 'n_neighbors': 25, 'weights': 'uniform'}\n",
      "0.680 (+/-0.014) for {'metric': 'euclidean', 'n_neighbors': 25, 'weights': 'distance'}\n",
      "0.663 (+/-0.010) for {'metric': 'euclidean', 'n_neighbors': 26, 'weights': 'uniform'}\n",
      "0.678 (+/-0.024) for {'metric': 'euclidean', 'n_neighbors': 26, 'weights': 'distance'}\n",
      "0.668 (+/-0.015) for {'metric': 'euclidean', 'n_neighbors': 27, 'weights': 'uniform'}\n",
      "0.674 (+/-0.016) for {'metric': 'euclidean', 'n_neighbors': 27, 'weights': 'distance'}\n",
      "0.671 (+/-0.024) for {'metric': 'euclidean', 'n_neighbors': 28, 'weights': 'uniform'}\n",
      "0.678 (+/-0.023) for {'metric': 'euclidean', 'n_neighbors': 28, 'weights': 'distance'}\n",
      "0.672 (+/-0.022) for {'metric': 'euclidean', 'n_neighbors': 29, 'weights': 'uniform'}\n",
      "0.674 (+/-0.037) for {'metric': 'euclidean', 'n_neighbors': 29, 'weights': 'distance'}\n",
      "0.632 (+/-0.015) for {'metric': 'manhattan', 'n_neighbors': 1, 'weights': 'uniform'}\n",
      "0.632 (+/-0.015) for {'metric': 'manhattan', 'n_neighbors': 1, 'weights': 'distance'}\n",
      "0.654 (+/-0.017) for {'metric': 'manhattan', 'n_neighbors': 2, 'weights': 'uniform'}\n",
      "0.632 (+/-0.015) for {'metric': 'manhattan', 'n_neighbors': 2, 'weights': 'distance'}\n",
      "0.654 (+/-0.015) for {'metric': 'manhattan', 'n_neighbors': 3, 'weights': 'uniform'}\n",
      "0.651 (+/-0.009) for {'metric': 'manhattan', 'n_neighbors': 3, 'weights': 'distance'}\n",
      "0.668 (+/-0.026) for {'metric': 'manhattan', 'n_neighbors': 4, 'weights': 'uniform'}\n",
      "0.657 (+/-0.012) for {'metric': 'manhattan', 'n_neighbors': 4, 'weights': 'distance'}\n",
      "0.668 (+/-0.034) for {'metric': 'manhattan', 'n_neighbors': 5, 'weights': 'uniform'}\n",
      "0.675 (+/-0.033) for {'metric': 'manhattan', 'n_neighbors': 5, 'weights': 'distance'}\n",
      "0.681 (+/-0.005) for {'metric': 'manhattan', 'n_neighbors': 6, 'weights': 'uniform'}\n",
      "0.671 (+/-0.012) for {'metric': 'manhattan', 'n_neighbors': 6, 'weights': 'distance'}\n",
      "0.678 (+/-0.039) for {'metric': 'manhattan', 'n_neighbors': 7, 'weights': 'uniform'}\n",
      "0.674 (+/-0.045) for {'metric': 'manhattan', 'n_neighbors': 7, 'weights': 'distance'}\n",
      "0.686 (+/-0.041) for {'metric': 'manhattan', 'n_neighbors': 8, 'weights': 'uniform'}\n",
      "0.681 (+/-0.022) for {'metric': 'manhattan', 'n_neighbors': 8, 'weights': 'distance'}\n",
      "0.692 (+/-0.044) for {'metric': 'manhattan', 'n_neighbors': 9, 'weights': 'uniform'}\n",
      "0.684 (+/-0.037) for {'metric': 'manhattan', 'n_neighbors': 9, 'weights': 'distance'}\n",
      "0.680 (+/-0.019) for {'metric': 'manhattan', 'n_neighbors': 10, 'weights': 'uniform'}\n",
      "0.687 (+/-0.047) for {'metric': 'manhattan', 'n_neighbors': 10, 'weights': 'distance'}\n",
      "0.689 (+/-0.047) for {'metric': 'manhattan', 'n_neighbors': 11, 'weights': 'uniform'}\n",
      "0.690 (+/-0.057) for {'metric': 'manhattan', 'n_neighbors': 11, 'weights': 'distance'}\n",
      "0.680 (+/-0.026) for {'metric': 'manhattan', 'n_neighbors': 12, 'weights': 'uniform'}\n",
      "0.689 (+/-0.047) for {'metric': 'manhattan', 'n_neighbors': 12, 'weights': 'distance'}\n",
      "0.678 (+/-0.017) for {'metric': 'manhattan', 'n_neighbors': 13, 'weights': 'uniform'}\n",
      "0.680 (+/-0.057) for {'metric': 'manhattan', 'n_neighbors': 13, 'weights': 'distance'}\n",
      "0.678 (+/-0.030) for {'metric': 'manhattan', 'n_neighbors': 14, 'weights': 'uniform'}\n",
      "0.684 (+/-0.050) for {'metric': 'manhattan', 'n_neighbors': 14, 'weights': 'distance'}\n",
      "0.684 (+/-0.032) for {'metric': 'manhattan', 'n_neighbors': 15, 'weights': 'uniform'}\n",
      "0.690 (+/-0.046) for {'metric': 'manhattan', 'n_neighbors': 15, 'weights': 'distance'}\n",
      "0.675 (+/-0.018) for {'metric': 'manhattan', 'n_neighbors': 16, 'weights': 'uniform'}\n",
      "0.684 (+/-0.047) for {'metric': 'manhattan', 'n_neighbors': 16, 'weights': 'distance'}\n",
      "0.683 (+/-0.010) for {'metric': 'manhattan', 'n_neighbors': 17, 'weights': 'uniform'}\n",
      "0.690 (+/-0.046) for {'metric': 'manhattan', 'n_neighbors': 17, 'weights': 'distance'}\n",
      "0.677 (+/-0.003) for {'metric': 'manhattan', 'n_neighbors': 18, 'weights': 'uniform'}\n",
      "0.689 (+/-0.031) for {'metric': 'manhattan', 'n_neighbors': 18, 'weights': 'distance'}\n",
      "0.684 (+/-0.013) for {'metric': 'manhattan', 'n_neighbors': 19, 'weights': 'uniform'}\n",
      "0.690 (+/-0.034) for {'metric': 'manhattan', 'n_neighbors': 19, 'weights': 'distance'}\n",
      "0.681 (+/-0.014) for {'metric': 'manhattan', 'n_neighbors': 20, 'weights': 'uniform'}\n",
      "0.690 (+/-0.032) for {'metric': 'manhattan', 'n_neighbors': 20, 'weights': 'distance'}\n",
      "0.684 (+/-0.028) for {'metric': 'manhattan', 'n_neighbors': 21, 'weights': 'uniform'}\n",
      "0.684 (+/-0.043) for {'metric': 'manhattan', 'n_neighbors': 21, 'weights': 'distance'}\n",
      "0.671 (+/-0.020) for {'metric': 'manhattan', 'n_neighbors': 22, 'weights': 'uniform'}\n",
      "0.686 (+/-0.021) for {'metric': 'manhattan', 'n_neighbors': 22, 'weights': 'distance'}\n",
      "0.675 (+/-0.014) for {'metric': 'manhattan', 'n_neighbors': 23, 'weights': 'uniform'}\n",
      "0.683 (+/-0.037) for {'metric': 'manhattan', 'n_neighbors': 23, 'weights': 'distance'}\n",
      "0.662 (+/-0.026) for {'metric': 'manhattan', 'n_neighbors': 24, 'weights': 'uniform'}\n",
      "0.678 (+/-0.025) for {'metric': 'manhattan', 'n_neighbors': 24, 'weights': 'distance'}\n",
      "0.671 (+/-0.023) for {'metric': 'manhattan', 'n_neighbors': 25, 'weights': 'uniform'}\n",
      "0.681 (+/-0.027) for {'metric': 'manhattan', 'n_neighbors': 25, 'weights': 'distance'}\n",
      "0.662 (+/-0.021) for {'metric': 'manhattan', 'n_neighbors': 26, 'weights': 'uniform'}\n",
      "0.681 (+/-0.020) for {'metric': 'manhattan', 'n_neighbors': 26, 'weights': 'distance'}\n",
      "0.671 (+/-0.016) for {'metric': 'manhattan', 'n_neighbors': 27, 'weights': 'uniform'}\n",
      "0.680 (+/-0.029) for {'metric': 'manhattan', 'n_neighbors': 27, 'weights': 'distance'}\n",
      "0.662 (+/-0.009) for {'metric': 'manhattan', 'n_neighbors': 28, 'weights': 'uniform'}\n",
      "0.681 (+/-0.014) for {'metric': 'manhattan', 'n_neighbors': 28, 'weights': 'distance'}\n",
      "0.665 (+/-0.020) for {'metric': 'manhattan', 'n_neighbors': 29, 'weights': 'uniform'}\n",
      "0.684 (+/-0.022) for {'metric': 'manhattan', 'n_neighbors': 29, 'weights': 'distance'}\n",
      "0.585 (+/-0.052) for {'metric': 'chebyshev', 'n_neighbors': 1, 'weights': 'uniform'}\n",
      "0.585 (+/-0.052) for {'metric': 'chebyshev', 'n_neighbors': 1, 'weights': 'distance'}\n",
      "0.647 (+/-0.030) for {'metric': 'chebyshev', 'n_neighbors': 2, 'weights': 'uniform'}\n",
      "0.587 (+/-0.050) for {'metric': 'chebyshev', 'n_neighbors': 2, 'weights': 'distance'}\n",
      "0.635 (+/-0.025) for {'metric': 'chebyshev', 'n_neighbors': 3, 'weights': 'uniform'}\n",
      "0.623 (+/-0.017) for {'metric': 'chebyshev', 'n_neighbors': 3, 'weights': 'distance'}\n",
      "0.657 (+/-0.018) for {'metric': 'chebyshev', 'n_neighbors': 4, 'weights': 'uniform'}\n",
      "0.626 (+/-0.019) for {'metric': 'chebyshev', 'n_neighbors': 4, 'weights': 'distance'}\n",
      "0.665 (+/-0.039) for {'metric': 'chebyshev', 'n_neighbors': 5, 'weights': 'uniform'}\n",
      "0.651 (+/-0.032) for {'metric': 'chebyshev', 'n_neighbors': 5, 'weights': 'distance'}\n",
      "0.674 (+/-0.052) for {'metric': 'chebyshev', 'n_neighbors': 6, 'weights': 'uniform'}\n",
      "0.653 (+/-0.021) for {'metric': 'chebyshev', 'n_neighbors': 6, 'weights': 'distance'}\n",
      "0.666 (+/-0.044) for {'metric': 'chebyshev', 'n_neighbors': 7, 'weights': 'uniform'}\n",
      "0.660 (+/-0.028) for {'metric': 'chebyshev', 'n_neighbors': 7, 'weights': 'distance'}\n",
      "0.680 (+/-0.025) for {'metric': 'chebyshev', 'n_neighbors': 8, 'weights': 'uniform'}\n",
      "0.647 (+/-0.023) for {'metric': 'chebyshev', 'n_neighbors': 8, 'weights': 'distance'}\n",
      "0.686 (+/-0.034) for {'metric': 'chebyshev', 'n_neighbors': 9, 'weights': 'uniform'}\n",
      "0.662 (+/-0.013) for {'metric': 'chebyshev', 'n_neighbors': 9, 'weights': 'distance'}\n",
      "0.675 (+/-0.011) for {'metric': 'chebyshev', 'n_neighbors': 10, 'weights': 'uniform'}\n",
      "0.662 (+/-0.032) for {'metric': 'chebyshev', 'n_neighbors': 10, 'weights': 'distance'}\n",
      "0.681 (+/-0.012) for {'metric': 'chebyshev', 'n_neighbors': 11, 'weights': 'uniform'}\n",
      "0.663 (+/-0.022) for {'metric': 'chebyshev', 'n_neighbors': 11, 'weights': 'distance'}\n",
      "0.671 (+/-0.026) for {'metric': 'chebyshev', 'n_neighbors': 12, 'weights': 'uniform'}\n",
      "0.663 (+/-0.021) for {'metric': 'chebyshev', 'n_neighbors': 12, 'weights': 'distance'}\n",
      "0.675 (+/-0.028) for {'metric': 'chebyshev', 'n_neighbors': 13, 'weights': 'uniform'}\n",
      "0.672 (+/-0.033) for {'metric': 'chebyshev', 'n_neighbors': 13, 'weights': 'distance'}\n",
      "0.675 (+/-0.020) for {'metric': 'chebyshev', 'n_neighbors': 14, 'weights': 'uniform'}\n",
      "0.672 (+/-0.033) for {'metric': 'chebyshev', 'n_neighbors': 14, 'weights': 'distance'}\n",
      "0.689 (+/-0.009) for {'metric': 'chebyshev', 'n_neighbors': 15, 'weights': 'uniform'}\n",
      "0.678 (+/-0.026) for {'metric': 'chebyshev', 'n_neighbors': 15, 'weights': 'distance'}\n",
      "0.669 (+/-0.016) for {'metric': 'chebyshev', 'n_neighbors': 16, 'weights': 'uniform'}\n",
      "0.674 (+/-0.026) for {'metric': 'chebyshev', 'n_neighbors': 16, 'weights': 'distance'}\n",
      "0.684 (+/-0.011) for {'metric': 'chebyshev', 'n_neighbors': 17, 'weights': 'uniform'}\n",
      "0.677 (+/-0.026) for {'metric': 'chebyshev', 'n_neighbors': 17, 'weights': 'distance'}\n",
      "0.675 (+/-0.009) for {'metric': 'chebyshev', 'n_neighbors': 18, 'weights': 'uniform'}\n",
      "0.674 (+/-0.011) for {'metric': 'chebyshev', 'n_neighbors': 18, 'weights': 'distance'}\n",
      "0.678 (+/-0.016) for {'metric': 'chebyshev', 'n_neighbors': 19, 'weights': 'uniform'}\n",
      "0.677 (+/-0.012) for {'metric': 'chebyshev', 'n_neighbors': 19, 'weights': 'distance'}\n",
      "0.666 (+/-0.009) for {'metric': 'chebyshev', 'n_neighbors': 20, 'weights': 'uniform'}\n",
      "0.677 (+/-0.031) for {'metric': 'chebyshev', 'n_neighbors': 20, 'weights': 'distance'}\n",
      "0.669 (+/-0.011) for {'metric': 'chebyshev', 'n_neighbors': 21, 'weights': 'uniform'}\n",
      "0.678 (+/-0.022) for {'metric': 'chebyshev', 'n_neighbors': 21, 'weights': 'distance'}\n",
      "0.671 (+/-0.015) for {'metric': 'chebyshev', 'n_neighbors': 22, 'weights': 'uniform'}\n",
      "0.681 (+/-0.026) for {'metric': 'chebyshev', 'n_neighbors': 22, 'weights': 'distance'}\n",
      "0.671 (+/-0.019) for {'metric': 'chebyshev', 'n_neighbors': 23, 'weights': 'uniform'}\n",
      "0.681 (+/-0.008) for {'metric': 'chebyshev', 'n_neighbors': 23, 'weights': 'distance'}\n",
      "0.666 (+/-0.012) for {'metric': 'chebyshev', 'n_neighbors': 24, 'weights': 'uniform'}\n",
      "0.675 (+/-0.025) for {'metric': 'chebyshev', 'n_neighbors': 24, 'weights': 'distance'}\n",
      "0.668 (+/-0.015) for {'metric': 'chebyshev', 'n_neighbors': 25, 'weights': 'uniform'}\n",
      "0.672 (+/-0.015) for {'metric': 'chebyshev', 'n_neighbors': 25, 'weights': 'distance'}\n",
      "0.669 (+/-0.011) for {'metric': 'chebyshev', 'n_neighbors': 26, 'weights': 'uniform'}\n",
      "0.674 (+/-0.011) for {'metric': 'chebyshev', 'n_neighbors': 26, 'weights': 'distance'}\n",
      "0.671 (+/-0.015) for {'metric': 'chebyshev', 'n_neighbors': 27, 'weights': 'uniform'}\n",
      "0.672 (+/-0.034) for {'metric': 'chebyshev', 'n_neighbors': 27, 'weights': 'distance'}\n",
      "0.663 (+/-0.020) for {'metric': 'chebyshev', 'n_neighbors': 28, 'weights': 'uniform'}\n",
      "0.678 (+/-0.036) for {'metric': 'chebyshev', 'n_neighbors': 28, 'weights': 'distance'}\n",
      "0.665 (+/-0.013) for {'metric': 'chebyshev', 'n_neighbors': 29, 'weights': 'uniform'}\n",
      "0.678 (+/-0.033) for {'metric': 'chebyshev', 'n_neighbors': 29, 'weights': 'distance'}\n",
      "0.605 (+/-0.030) for {'metric': 'minkowski', 'n_neighbors': 1, 'weights': 'uniform'}\n",
      "0.605 (+/-0.030) for {'metric': 'minkowski', 'n_neighbors': 1, 'weights': 'distance'}\n",
      "0.651 (+/-0.018) for {'metric': 'minkowski', 'n_neighbors': 2, 'weights': 'uniform'}\n",
      "0.605 (+/-0.030) for {'metric': 'minkowski', 'n_neighbors': 2, 'weights': 'distance'}\n",
      "0.642 (+/-0.012) for {'metric': 'minkowski', 'n_neighbors': 3, 'weights': 'uniform'}\n",
      "0.630 (+/-0.008) for {'metric': 'minkowski', 'n_neighbors': 3, 'weights': 'distance'}\n",
      "0.663 (+/-0.003) for {'metric': 'minkowski', 'n_neighbors': 4, 'weights': 'uniform'}\n",
      "0.638 (+/-0.004) for {'metric': 'minkowski', 'n_neighbors': 4, 'weights': 'distance'}\n",
      "0.648 (+/-0.018) for {'metric': 'minkowski', 'n_neighbors': 5, 'weights': 'uniform'}\n",
      "0.641 (+/-0.036) for {'metric': 'minkowski', 'n_neighbors': 5, 'weights': 'distance'}\n",
      "0.665 (+/-0.004) for {'metric': 'minkowski', 'n_neighbors': 6, 'weights': 'uniform'}\n",
      "0.651 (+/-0.040) for {'metric': 'minkowski', 'n_neighbors': 6, 'weights': 'distance'}\n",
      "0.671 (+/-0.032) for {'metric': 'minkowski', 'n_neighbors': 7, 'weights': 'uniform'}\n",
      "0.663 (+/-0.022) for {'metric': 'minkowski', 'n_neighbors': 7, 'weights': 'distance'}\n",
      "0.671 (+/-0.013) for {'metric': 'minkowski', 'n_neighbors': 8, 'weights': 'uniform'}\n",
      "0.660 (+/-0.023) for {'metric': 'minkowski', 'n_neighbors': 8, 'weights': 'distance'}\n",
      "0.675 (+/-0.009) for {'metric': 'minkowski', 'n_neighbors': 9, 'weights': 'uniform'}\n",
      "0.668 (+/-0.005) for {'metric': 'minkowski', 'n_neighbors': 9, 'weights': 'distance'}\n",
      "0.684 (+/-0.006) for {'metric': 'minkowski', 'n_neighbors': 10, 'weights': 'uniform'}\n",
      "0.678 (+/-0.035) for {'metric': 'minkowski', 'n_neighbors': 10, 'weights': 'distance'}\n",
      "0.683 (+/-0.014) for {'metric': 'minkowski', 'n_neighbors': 11, 'weights': 'uniform'}\n",
      "0.662 (+/-0.018) for {'metric': 'minkowski', 'n_neighbors': 11, 'weights': 'distance'}\n",
      "0.677 (+/-0.005) for {'metric': 'minkowski', 'n_neighbors': 12, 'weights': 'uniform'}\n",
      "0.668 (+/-0.043) for {'metric': 'minkowski', 'n_neighbors': 12, 'weights': 'distance'}\n",
      "0.693 (+/-0.024) for {'metric': 'minkowski', 'n_neighbors': 13, 'weights': 'uniform'}\n",
      "0.671 (+/-0.032) for {'metric': 'minkowski', 'n_neighbors': 13, 'weights': 'distance'}\n",
      "0.678 (+/-0.018) for {'metric': 'minkowski', 'n_neighbors': 14, 'weights': 'uniform'}\n",
      "0.675 (+/-0.047) for {'metric': 'minkowski', 'n_neighbors': 14, 'weights': 'distance'}\n",
      "0.686 (+/-0.021) for {'metric': 'minkowski', 'n_neighbors': 15, 'weights': 'uniform'}\n",
      "0.672 (+/-0.029) for {'metric': 'minkowski', 'n_neighbors': 15, 'weights': 'distance'}\n",
      "0.684 (+/-0.011) for {'metric': 'minkowski', 'n_neighbors': 16, 'weights': 'uniform'}\n",
      "0.678 (+/-0.035) for {'metric': 'minkowski', 'n_neighbors': 16, 'weights': 'distance'}\n",
      "0.695 (+/-0.012) for {'metric': 'minkowski', 'n_neighbors': 17, 'weights': 'uniform'}\n",
      "0.672 (+/-0.019) for {'metric': 'minkowski', 'n_neighbors': 17, 'weights': 'distance'}\n",
      "0.675 (+/-0.016) for {'metric': 'minkowski', 'n_neighbors': 18, 'weights': 'uniform'}\n",
      "0.683 (+/-0.017) for {'metric': 'minkowski', 'n_neighbors': 18, 'weights': 'distance'}\n",
      "0.678 (+/-0.006) for {'metric': 'minkowski', 'n_neighbors': 19, 'weights': 'uniform'}\n",
      "0.674 (+/-0.016) for {'metric': 'minkowski', 'n_neighbors': 19, 'weights': 'distance'}\n",
      "0.672 (+/-0.005) for {'metric': 'minkowski', 'n_neighbors': 20, 'weights': 'uniform'}\n",
      "0.683 (+/-0.028) for {'metric': 'minkowski', 'n_neighbors': 20, 'weights': 'distance'}\n",
      "0.675 (+/-0.006) for {'metric': 'minkowski', 'n_neighbors': 21, 'weights': 'uniform'}\n",
      "0.677 (+/-0.010) for {'metric': 'minkowski', 'n_neighbors': 21, 'weights': 'distance'}\n",
      "0.671 (+/-0.009) for {'metric': 'minkowski', 'n_neighbors': 22, 'weights': 'uniform'}\n",
      "0.678 (+/-0.017) for {'metric': 'minkowski', 'n_neighbors': 22, 'weights': 'distance'}\n",
      "0.669 (+/-0.009) for {'metric': 'minkowski', 'n_neighbors': 23, 'weights': 'uniform'}\n",
      "0.677 (+/-0.003) for {'metric': 'minkowski', 'n_neighbors': 23, 'weights': 'distance'}\n",
      "0.669 (+/-0.011) for {'metric': 'minkowski', 'n_neighbors': 24, 'weights': 'uniform'}\n",
      "0.678 (+/-0.023) for {'metric': 'minkowski', 'n_neighbors': 24, 'weights': 'distance'}\n",
      "0.666 (+/-0.014) for {'metric': 'minkowski', 'n_neighbors': 25, 'weights': 'uniform'}\n",
      "0.680 (+/-0.014) for {'metric': 'minkowski', 'n_neighbors': 25, 'weights': 'distance'}\n",
      "0.663 (+/-0.010) for {'metric': 'minkowski', 'n_neighbors': 26, 'weights': 'uniform'}\n",
      "0.678 (+/-0.024) for {'metric': 'minkowski', 'n_neighbors': 26, 'weights': 'distance'}\n",
      "0.668 (+/-0.015) for {'metric': 'minkowski', 'n_neighbors': 27, 'weights': 'uniform'}\n",
      "0.674 (+/-0.016) for {'metric': 'minkowski', 'n_neighbors': 27, 'weights': 'distance'}\n",
      "0.671 (+/-0.024) for {'metric': 'minkowski', 'n_neighbors': 28, 'weights': 'uniform'}\n",
      "0.678 (+/-0.023) for {'metric': 'minkowski', 'n_neighbors': 28, 'weights': 'distance'}\n",
      "0.672 (+/-0.022) for {'metric': 'minkowski', 'n_neighbors': 29, 'weights': 'uniform'}\n",
      "0.674 (+/-0.037) for {'metric': 'minkowski', 'n_neighbors': 29, 'weights': 'distance'}\n"
     ]
    }
   ],
   "source": [
    "means = clf.cv_results_['mean_test_score']\n",
    "stds = clf.cv_results_['std_test_score']\n",
    "for mean, std, params in zip(means, stds, clf.cv_results_['params']):\n",
    "        print(\"%0.3f (+/-%0.03f) for %r\"\n",
    "              % (mean, std * 2, params))"
   ]
  },
  {
   "cell_type": "markdown",
   "metadata": {},
   "source": [
    "Now our classifier is ready. Test the classifier using the test data to verify the accuracy."
   ]
  },
  {
   "cell_type": "code",
   "execution_count": 24,
   "metadata": {},
   "outputs": [
    {
     "data": {
      "text/plain": [
       "'              precision    recall  f1-score   support\\n\\n           0       0.66      0.88      0.75       137\\n           1       0.57      0.27      0.37        86\\n\\n   micro avg       0.64      0.64      0.64       223\\n   macro avg       0.62      0.57      0.56       223\\nweighted avg       0.62      0.64      0.60       223\\n'"
      ]
     },
     "execution_count": 24,
     "metadata": {},
     "output_type": "execute_result"
    }
   ],
   "source": [
    "y_true, y_pred = Y_test, clf.predict(X_test)\n",
    "classification_report(y_true, y_pred)"
   ]
  },
  {
   "cell_type": "code",
   "execution_count": null,
   "metadata": {},
   "outputs": [],
   "source": []
  }
 ],
 "metadata": {
  "kernelspec": {
   "display_name": "Python 3",
   "language": "python",
   "name": "python3"
  },
  "language_info": {
   "codemirror_mode": {
    "name": "ipython",
    "version": 3
   },
   "file_extension": ".py",
   "mimetype": "text/x-python",
   "name": "python",
   "nbconvert_exporter": "python",
   "pygments_lexer": "ipython3",
   "version": "3.6.7"
  }
 },
 "nbformat": 4,
 "nbformat_minor": 2
}
